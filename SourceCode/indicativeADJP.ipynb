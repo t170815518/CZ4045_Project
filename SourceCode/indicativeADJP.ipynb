{
 "cells": [
  {
   "cell_type": "code",
   "execution_count": 1,
   "metadata": {},
   "outputs": [],
   "source": [
    "import nltk\n",
    "import pandas as pd\n",
    "from nltk.corpus import stopwords\n",
    "from nltk.tokenize import sent_tokenize, word_tokenize\n",
    "import matplotlib.pyplot as plt\n",
    "import random\n",
    "import json\n",
    "from collections import Counter\n",
    "import string\n",
    "from nltk.stem.porter import *"
   ]
  },
  {
   "cell_type": "code",
   "execution_count": 2,
   "metadata": {},
   "outputs": [],
   "source": [
    "reviewList = []\n",
    "with open('reviewSelected100.json', encoding = \"ISO-8859-1\") as datafile:\n",
    "    for jsonObj in datafile:\n",
    "        reviewDict = json.loads(jsonObj)\n",
    "        reviewList.append(reviewDict)"
   ]
  },
  {
   "cell_type": "code",
   "execution_count": 3,
   "metadata": {},
   "outputs": [],
   "source": [
    "businessList = []\n",
    "for review in reviewList:\n",
    "    businessList.append(review[\"business_id\"])\n",
    "# random_businessid = random.choice(businessList)\n",
    "# print(type(random_businessid))\n",
    "# print(\"Random business b1 selected: \"+random_businessid)"
   ]
  },
  {
   "cell_type": "markdown",
   "metadata": {},
   "source": [
    "Select a random business 'p6FPcgLymnpk_gAyQuW_Mw', separate review of the selected business and other businesses"
   ]
  },
  {
   "cell_type": "code",
   "execution_count": 4,
   "metadata": {},
   "outputs": [],
   "source": [
    "reviews = []\n",
    "reviewsOther = []\n",
    "for review in reviewList:\n",
    "    #if (review[\"business_id\"] == random_businessid): # considering all reviews for same business b1\n",
    "    if (review[\"business_id\"] == 'p6FPcgLymnpk_gAyQuW_Mw'):\n",
    "        reviews.append(review[\"text\"].lower())\n",
    "    else:\n",
    "        reviewsOther.append(review[\"text\"].lower())"
   ]
  },
  {
   "cell_type": "markdown",
   "metadata": {},
   "source": [
    "Find all ADJ phrases in reviews of the selected business"
   ]
  },
  {
   "cell_type": "code",
   "execution_count": 5,
   "metadata": {},
   "outputs": [],
   "source": [
    "from nltk.parse import CoreNLPParser\n",
    "parser = CoreNLPParser(url='http://localhost:9000')"
   ]
  },
  {
   "cell_type": "markdown",
   "metadata": {},
   "source": [
    "Tokenize sentence"
   ]
  },
  {
   "cell_type": "code",
   "execution_count": 6,
   "metadata": {},
   "outputs": [],
   "source": [
    "sentences = []\n",
    "for review in reviews:\n",
    "    sentences.extend(sent_tokenize(review))"
   ]
  },
  {
   "cell_type": "code",
   "execution_count": 7,
   "metadata": {},
   "outputs": [
    {
     "name": "stdout",
     "output_type": "stream",
     "text": [
      "error occurs when processing: return factor- 100%\n"
     ]
    }
   ],
   "source": [
    "ADJPs = []\n",
    "for sentence in sentences:\n",
    "    try:\n",
    "        structure = list(parser.raw_parse(sentence)) \n",
    "        ADJPs.extend(list(structure[0].subtrees(lambda t: t.label() == 'ADJP')))\n",
    "    except:\n",
    "        print(\"error occurs when processing: \" + sentence)"
   ]
  },
  {
   "cell_type": "code",
   "execution_count": 8,
   "metadata": {},
   "outputs": [],
   "source": [
    "ngramADJP = {}  \n",
    "for ADJP in ADJPs:\n",
    "    if len(list(ADJP.subtrees(lambda t: t.label() == 'ADJP'))) == 1:\n",
    "        words = ADJP.leaves();\n",
    "        expression = \"\"\n",
    "        for i in range(len(words)):\n",
    "            word = words[i]\n",
    "            if word in string.punctuation:\n",
    "                continue\n",
    "            expression += word.strip().lower()\n",
    "            if i != len(words) - 1:\n",
    "                expression += \" \"\n",
    "        n = len(expression.split())\n",
    "        if n > 5:\n",
    "            continue\n",
    "        if n == 1:\n",
    "            continue;\n",
    "        if(n not in ngramADJP):\n",
    "            ngramADJP[n] = [expression]\n",
    "        else:\n",
    "            ngramADJP[n].append(expression)"
   ]
  },
  {
   "cell_type": "code",
   "execution_count": 9,
   "metadata": {},
   "outputs": [],
   "source": [
    "from nltk.util import bigrams\n",
    "from nltk.lm.preprocessing import pad_both_ends\n",
    "from nltk.lm.preprocessing import padded_everygram_pipeline\n",
    "from nltk.lm import MLE\n",
    "from nltk.tokenize import wordpunct_tokenize\n",
    "from nltk.tokenize import word_tokenize\n",
    "from nltk.lm import Laplace\n",
    "from nltk.tokenize import wordpunct_tokenize\n",
    "from scipy.stats import entropy\n",
    "import math"
   ]
  },
  {
   "cell_type": "code",
   "execution_count": 14,
   "metadata": {},
   "outputs": [],
   "source": [
    "def trainlm(reviews):\n",
    "    reviews_str = ''.join(reviews)\n",
    "    test_corpus = [list(wordpunct_tokenize(reviews_str))]\n",
    "    train, vocab = padded_everygram_pipeline(5, test_corpus)\n",
    "    lm = MLE(5)\n",
    "    lm.fit(train, vocab)\n",
    "    return lm"
   ]
  },
  {
   "cell_type": "code",
   "execution_count": 15,
   "metadata": {},
   "outputs": [],
   "source": [
    "def getNgramProbability(words,lm):\n",
    "    frequency = lm.logscore(words[0])\n",
    "    for i in range(1,len(words)):\n",
    "        frequency += lm.logscore(words[i],[words[i-1]])\n",
    "    return frequency"
   ]
  },
  {
   "cell_type": "code",
   "execution_count": 16,
   "metadata": {},
   "outputs": [
    {
     "name": "stdout",
     "output_type": "stream",
     "text": [
      "calculating ngram probability in reviews for business b1\n",
      "calculating ngram probability in reviews for other business\n"
     ]
    },
    {
     "data": {
      "text/plain": [
       "[('turbo charged', inf),\n",
       " ('bodega ever', inf),\n",
       " ('insanely delicious', inf),\n",
       " ('plentiful too', inf),\n",
       " ('leaderless american', inf),\n",
       " ('kinda soggy', inf),\n",
       " ('pippin hot', inf),\n",
       " ('pure awesomeness ', inf),\n",
       " ('so legit', inf),\n",
       " ('delicious spicy', inf),\n",
       " ('surprisingly organized', inf),\n",
       " ('disgusting orange', inf),\n",
       " ('perfect by themselves', inf),\n",
       " ('amazing late night', inf),\n",
       " ('extraordinary vey impressive', inf),\n",
       " ('huuuge and delicious', inf),\n",
       " ('fastest and biggest', inf),\n",
       " ('kind of scary', inf),\n",
       " ('not really mexican', inf),\n",
       " ('multicultural and diverse', inf),\n",
       " ('convenient in convenience', inf),\n",
       " ('new to tempe', inf),\n",
       " ('a little finer', inf),\n",
       " ('drab and dingy', inf),\n",
       " ('definition college town convenient', inf),\n",
       " ('uninviting from the outside', inf),\n",
       " ('open late', 6.382396550574292e-05),\n",
       " ('so good', 3.6894924866140707e-05),\n",
       " ('super chill', 3.2430805486873855e-05),\n",
       " ('super hungry', 2.8473982386990288e-05),\n",
       " ('really good', 2.203713500010146e-05),\n",
       " ('very dry', 2.1217938138352975e-05),\n",
       " ('extremely nice', 1.8930794910951953e-05),\n",
       " ('super fast', 1.8291611835434745e-05),\n",
       " ('not the', 1.554047054036711e-05),\n",
       " ('very tidy', 1.4772019377012632e-05),\n",
       " ('nice refreshing', 1.4772019377012598e-05),\n",
       " ('hungry enough', 1.4772019377012598e-05),\n",
       " ('incredibly salty', 1.4772019377012588e-05),\n",
       " ('insanely good', 1.4772019377012588e-05),\n",
       " ('very attractive', 1.262228681082527e-05),\n",
       " ('well good', 1.262228681082527e-05),\n",
       " ('extremely fast', 1.262228681082527e-05),\n",
       " ('pretty hungry', 1.262228681082524e-05),\n",
       " ('a humongous', 1.262228681082524e-05),\n",
       " ('so sick', 1.262228681082524e-05),\n",
       " ('extremely fair', 1.136572682305083e-05),\n",
       " ('just wrong', 1.1365726823050774e-05),\n",
       " ('good quality', 1.1247782823054829e-05),\n",
       " ('so gross', 1.0474988775312161e-05),\n",
       " ('all friendly', 1.0474988775312155e-05),\n",
       " ('highly enough', 9.784787294667007e-06),\n",
       " ('super spicy', 9.221490333518795e-06),\n",
       " ('so pretty', 9.221490333518771e-06),\n",
       " ('very memorable', 8.745814762564842e-06),\n",
       " ('freshly prepared', 8.745814762564818e-06),\n",
       " ('extremely clean', 7.97184194113521e-06),\n",
       " ('very popular', 6.844362327115309e-06),\n",
       " ('all great', 6.618136790267574e-06),\n",
       " ('too hot', 6.40790676427864e-06),\n",
       " ('very low', 6.211617070748264e-06),\n",
       " ('very casual', 6.211617070748264e-06),\n",
       " ('a bit dry', 5.7838368637475735e-06),\n",
       " ('less expensive', 5.690955060418143e-06),\n",
       " ('a little disappointed', 5.273836723082592e-06),\n",
       " ('very hot', 5.116332097778111e-06),\n",
       " ('damn good', 4.989062710262356e-06),\n",
       " ('great tasting', 4.867275554659659e-06),\n",
       " ('nothing fancy', 4.638495439649073e-06),\n",
       " ('well seasoned', 4.638495439649073e-06),\n",
       " ('very few', 4.638495439649073e-06),\n",
       " ('very generous', 4.047881344896177e-06),\n",
       " ('a lot more', 3.772176885698582e-06),\n",
       " ('really friendly', 3.491786017787425e-06),\n",
       " ('really cool', 3.352681850372702e-06),\n",
       " ('so fresh', 3.1575263494351687e-06),\n",
       " ('way better', 2.8633987808767636e-06),\n",
       " ('very small', 2.0392124488003387e-06),\n",
       " ('very professional', 1.8930317627521823e-06),\n",
       " ('pretty packed at night', 1.8446107180744e-06),\n",
       " ('so friendly', 1.8238972152404508e-06),\n",
       " ('super nice', 1.6928848885591154e-06),\n",
       " ('highly recommended', 1.6307748723307342e-06),\n",
       " ('very good', 1.6145054362989012e-06),\n",
       " ('not super hungry', 1.6077385329924764e-06),\n",
       " ('good too', 9.101410228815463e-07),\n",
       " ('very reasonable', 8.733589017735557e-07),\n",
       " ('too bad', 8.377184527461033e-07),\n",
       " ('more than enough', 6.428962718464378e-07),\n",
       " ('much more', 6.315646947529937e-07),\n",
       " ('sit down', 5.527475435158238e-07),\n",
       " ('super friendly', 4.640882917072091e-07),\n",
       " ('not very', 3.7752611270930713e-07),\n",
       " ('as good', 3.1097515093122287e-07),\n",
       " ('open until 2 am', 2.1378669099318363e-07),\n",
       " ('great for late night', 1.0504270710021606e-07),\n",
       " ('hard to eat', 1.0376367253533764e-07),\n",
       " ('high with meat', 6.455849011014202e-08),\n",
       " ('not too salty', 4.599024477695185e-08),\n",
       " ('so much', 3.945372631690929e-08),\n",
       " ('take out', 3.290195576116242e-08),\n",
       " ('right with me', 2.692689817756189e-08),\n",
       " ('not to like', 2.6286203565744217e-08),\n",
       " ('cheap and nasty', 1.587651380755873e-08),\n",
       " ('best and worst', 1.582465391729992e-08),\n",
       " ('built in', 1.3659856929989025e-08),\n",
       " ('best and most authentic', 1.2060516280379697e-08),\n",
       " ('huge and awesome', 1.0627825844756773e-08),\n",
       " ('friendly and easy', 9.913114694418049e-09),\n",
       " ('huge and amazing', 9.294721480312295e-09),\n",
       " ('nice and fluffy', 9.25078770166209e-09),\n",
       " ('awesome and cheap', 7.830854744825092e-09),\n",
       " ('curious about the chicken', 7.354895883431666e-09),\n",
       " ('fast and friendly', 5.4753659582411775e-09),\n",
       " ('fresh and right', 5.241822881595864e-09),\n",
       " ('hot and spicy', 4.7621982696552236e-09),\n",
       " ('open faced', 4.023165348321963e-09),\n",
       " ('great for late night munchies', 3.83409757587176e-09),\n",
       " ('hot and fresh', 2.456384995930365e-09),\n",
       " ('so much in them', 2.4544203306144197e-09),\n",
       " ('7 people deep and bustling', 6.260003294189746e-10),\n",
       " ('pretty good', 4.0432113047995415e-10),\n",
       " ('both amazing and disgusting', 2.8132185103080863e-10),\n",
       " ('open at this hour', 2.5787536356342175e-10),\n",
       " ('good any time of day', 2.1346429430357023e-10),\n",
       " ('much better', 1.050359105982845e-10),\n",
       " ('quick cheap and tasty', 8.437694987151153e-15),\n",
       " ('stale spicy', 0.0),\n",
       " ('awesome open', 0.0),\n",
       " ('awesome authentic and cheap', 0.0),\n",
       " ('drunk on lemon st.', 0.0),\n",
       " ('very tasty very clean ', 0.0),\n",
       " ('too much to drink night', 0.0),\n",
       " ('the guy the register too', 0.0)]"
      ]
     },
     "execution_count": 16,
     "metadata": {},
     "output_type": "execute_result"
    }
   ],
   "source": [
    "lm_b = trainlm(reviews)\n",
    "lm_other = trainlm(reviewsOther)\n",
    "ADJPprobability = {}\n",
    "min_n = min(ngramADJP.keys())\n",
    "max_n = max(ngramADJP.keys())\n",
    "print(\"calculating ngram probability in reviews for business b1\")\n",
    "for n in range(min_n, max_n + 1):\n",
    "    for phrase in ngramADJP[n]:\n",
    "        words = phrase.split()\n",
    "        ADJPprobability[phrase] = getNgramProbability(words,lm_b)\n",
    "ADJPprobabilityInOtherBusiness = {}\n",
    "print(\"calculating ngram probability in reviews for other business\")\n",
    "for n in range(min_n, max_n + 1):\n",
    "    for phrase in ngramADJP[n]:\n",
    "        words = phrase.split()\n",
    "        ADJPprobabilityInOtherBusiness[phrase] = getNgramProbability(words,lm_other)\n",
    "relativeEntropy = {}\n",
    "for ADJP in ADJPprobability.keys():\n",
    "    probabilityInB = math.exp(ADJPprobability[ADJP])\n",
    "    probabilityInOther = math.exp(ADJPprobabilityInOtherBusiness[ADJP])\n",
    "    relativeEntropy[ADJP] = entropy([probabilityInB, 1-probabilityInB], qk=[probabilityInOther, 1-probabilityInOther])\n",
    "sortedADJP = sorted(relativeEntropy.items(),key=lambda d:d[1],reverse = True)\n",
    "sortedADJP"
   ]
  },
  {
   "cell_type": "code",
   "execution_count": null,
   "metadata": {},
   "outputs": [],
   "source": []
  }
 ],
 "metadata": {
  "kernelspec": {
   "display_name": "Python 3",
   "language": "python",
   "name": "python3"
  },
  "language_info": {
   "codemirror_mode": {
    "name": "ipython",
    "version": 3
   },
   "file_extension": ".py",
   "mimetype": "text/x-python",
   "name": "python",
   "nbconvert_exporter": "python",
   "pygments_lexer": "ipython3",
   "version": "3.7.4"
  }
 },
 "nbformat": 4,
 "nbformat_minor": 2
}
